{
  "nbformat": 4,
  "nbformat_minor": 0,
  "metadata": {
    "colab": {
      "name": "EX_1.ipynb",
      "provenance": [],
      "collapsed_sections": [],
      "authorship_tag": "ABX9TyMWGWTCMkh7lEHzAQezlSkv",
      "include_colab_link": true
    },
    "kernelspec": {
      "name": "python3",
      "display_name": "Python 3"
    }
  },
  "cells": [
    {
      "cell_type": "markdown",
      "metadata": {
        "id": "view-in-github",
        "colab_type": "text"
      },
      "source": [
        "<a href=\"https://colab.research.google.com/github/ben10ben/Complete-Python-3-Bootcamp/blob/master/EX_1.ipynb\" target=\"_parent\"><img src=\"https://colab.research.google.com/assets/colab-badge.svg\" alt=\"Open In Colab\"/></a>"
      ]
    },
    {
      "cell_type": "code",
      "metadata": {
        "id": "2gOHTvRMa73E",
        "colab_type": "code",
        "colab": {}
      },
      "source": [
        "import numpy as np\n",
        "import pandas as pd\n",
        "import seaborn as sns\n",
        "import matplotlib.pyplot as plt\n",
        "\n",
        "file = '/content/hmeq.csv'\n",
        "credit = pd.read_csv(file)"
      ],
      "execution_count": 0,
      "outputs": []
    },
    {
      "cell_type": "code",
      "metadata": {
        "id": "FNFSsuQAgnCZ",
        "colab_type": "code",
        "outputId": "fbb04182-6eb8-4e5c-a97e-63b7fb52895d",
        "colab": {
          "base_uri": "https://localhost:8080/",
          "height": 357
        }
      },
      "source": [
        "credit.head()\n",
        "#credit.describe()\n",
        "credit.info()"
      ],
      "execution_count": 0,
      "outputs": [
        {
          "output_type": "stream",
          "text": [
            "<class 'pandas.core.frame.DataFrame'>\n",
            "RangeIndex: 5960 entries, 0 to 5959\n",
            "Data columns (total 13 columns):\n",
            " #   Column   Non-Null Count  Dtype   \n",
            "---  ------   --------------  -----   \n",
            " 0   BAD      5960 non-null   bool    \n",
            " 1   LOAN     5960 non-null   float32 \n",
            " 2   MORTDUE  5442 non-null   float32 \n",
            " 3   VALUE    5848 non-null   float32 \n",
            " 4   REASON   5708 non-null   category\n",
            " 5   JOB      5681 non-null   category\n",
            " 6   YOJ      5445 non-null   float32 \n",
            " 7   DEROG    5252 non-null   float32 \n",
            " 8   DELINQ   5380 non-null   float32 \n",
            " 9   CLAGE    5652 non-null   float32 \n",
            " 10  NINQ     5450 non-null   float32 \n",
            " 11  CLNO     5738 non-null   float32 \n",
            " 12  DEBTINC  4693 non-null   float32 \n",
            "dtypes: bool(1), category(2), float32(10)\n",
            "memory usage: 250.7 KB\n"
          ],
          "name": "stdout"
        }
      ]
    },
    {
      "cell_type": "markdown",
      "metadata": {
        "id": "tA3BFw9WVfwE",
        "colab_type": "text"
      },
      "source": [
        "\n"
      ]
    },
    {
      "cell_type": "markdown",
      "metadata": {
        "id": "usLj3y51l8GB",
        "colab_type": "text"
      },
      "source": [
        "Variablen:\n",
        " \n",
        "1=default; 0=non-default\n",
        "\n",
        "LOAN: amount of the loan request\n",
        "\n",
        "MORTDUE: amount due on existing mortgage\n",
        "\n",
        "VALUE: value of current property\n",
        "\n",
        "REASON: DebtCon=debt consolidation; HomeImp=home improvement\n",
        "\n",
        "JOB: occupational categories\n",
        "\n",
        "YOJ: years at present job\n",
        "\n",
        "DEROG: number of major derogatory reports\n",
        "\n",
        "DELINQ: number of delinquent credit lines\n",
        "\n",
        "CLAGE: age of oldest credit line in months\n",
        "\n",
        "NINQ: number of recent credit inquiries\n",
        "\n",
        "CLNO: number of credit lines\n",
        "\n",
        "DEBTINC: debt-to-income ratio\n",
        "\n",
        "\n"
      ]
    },
    {
      "cell_type": "code",
      "metadata": {
        "id": "FlcffBorocL6",
        "colab_type": "code",
        "outputId": "a587f1b6-1ff8-4a76-885b-a3f3eebdd7f8",
        "colab": {
          "base_uri": "https://localhost:8080/",
          "height": 357
        }
      },
      "source": [
        "# Code categories properly \n",
        "credit['REASON'] = credit['REASON'].astype('category')\n",
        "credit['JOB'] = credit['JOB'].astype('category')\n",
        "\n",
        "# The target variable has only two states so that we can store it as a boolean\n",
        "credit['BAD'] = credit['BAD'].astype('bool')\n",
        "\n",
        "# For simplicity, we can also conver LOAN to a float so that all numeric variables are of type flot\n",
        "credit['LOAN'] = credit['LOAN'].astype(np.float64)\n",
        "\n",
        "# Last, let's change all numeric variables from float64 to float 32 to reduce memory consumption\n",
        "num_vars = credit.select_dtypes(include=np.float64).columns\n",
        "credit[num_vars] = credit[num_vars].astype(np.float32)\n",
        "\n",
        "# Check memory consumption after the converstions\n",
        "credit.info()"
      ],
      "execution_count": 0,
      "outputs": [
        {
          "output_type": "stream",
          "text": [
            "<class 'pandas.core.frame.DataFrame'>\n",
            "RangeIndex: 5960 entries, 0 to 5959\n",
            "Data columns (total 13 columns):\n",
            " #   Column   Non-Null Count  Dtype   \n",
            "---  ------   --------------  -----   \n",
            " 0   BAD      5960 non-null   bool    \n",
            " 1   LOAN     5960 non-null   float32 \n",
            " 2   MORTDUE  5442 non-null   float32 \n",
            " 3   VALUE    5848 non-null   float32 \n",
            " 4   REASON   5708 non-null   category\n",
            " 5   JOB      5681 non-null   category\n",
            " 6   YOJ      5445 non-null   float32 \n",
            " 7   DEROG    5252 non-null   float32 \n",
            " 8   DELINQ   5380 non-null   float32 \n",
            " 9   CLAGE    5652 non-null   float32 \n",
            " 10  NINQ     5450 non-null   float32 \n",
            " 11  CLNO     5738 non-null   float32 \n",
            " 12  DEBTINC  4693 non-null   float32 \n",
            "dtypes: bool(1), category(2), float32(10)\n",
            "memory usage: 250.7 KB\n"
          ],
          "name": "stdout"
        }
      ]
    },
    {
      "cell_type": "code",
      "metadata": {
        "id": "IAfBbaYJq7gX",
        "colab_type": "code",
        "outputId": "03c599d3-4ec2-49a4-cc7b-ddd2dde9c11e",
        "colab": {
          "base_uri": "https://localhost:8080/",
          "height": 309
        }
      },
      "source": [
        "credit.isna().sum()\n",
        "sns.heatmap(credit.isnull(), cbar=False);\n"
      ],
      "execution_count": 0,
      "outputs": [
        {
          "output_type": "display_data",
          "data": {
            "image/png": "[encoded data removed]",
            "text/plain": [
              "<Figure size 432x288 with 1 Axes>"
            ]
          },
          "metadata": {
            "tags": [],
            "needs_background": "light"
          }
        }
      ]
    },
    {
      "cell_type": "code",
      "metadata": {
        "id": "7aFRmsfRrwOQ",
        "colab_type": "code",
        "colab": {}
      },
      "source": [
        "#backup data\n",
        "df = credit.copy()"
      ],
      "execution_count": 0,
      "outputs": []
    },
    {
      "cell_type": "code",
      "metadata": {
        "id": "5gSG4V8Xr7Y4",
        "colab_type": "code",
        "outputId": "c0991198-3173-4159-80df-721a772da701",
        "colab": {
          "base_uri": "https://localhost:8080/",
          "height": 34
        }
      },
      "source": [
        "# Variable REASON: we treat missing values as a new level.\n",
        "# First we need to add a new level\n",
        "#df.REASON.cat.add_categories(['IsMissing'], inplace=True)\n",
        "# Now we can do the replacement\n",
        "df.REASON[df.REASON.isnull() ] = \"IsMissing\"\n",
        "df.REASON.head()\n",
        "\n",
        "df.JOB.mode()[0]\n",
        "\n",
        "# Variable Job: we replace missing values with the mode\n",
        "df.JOB.mode()\n",
        "# Alternatively\n",
        "df.JOB.value_counts()\n",
        "\n",
        "df.JOB[df.JOB.isnull() ] = df.JOB.mode()[0]\n",
        "df.JOB.head()\n",
        "\n",
        "# Verify mising value replacement was successful\n",
        "if df.REASON.isnull().any() == False and df.JOB.isnull().any() == False:\n",
        "    print('well done!')\n",
        "else:\n",
        "    print('ups')\n"
      ],
      "execution_count": 0,
      "outputs": [
        {
          "output_type": "stream",
          "text": [
            "well done!\n"
          ],
          "name": "stdout"
        }
      ]
    },
    {
      "cell_type": "code",
      "metadata": {
        "id": "EFl_Cy7fsxHS",
        "colab_type": "code",
        "outputId": "fff898ad-f98d-42b4-b018-bb16fa0a4d65",
        "colab": {
          "base_uri": "https://localhost:8080/",
          "height": 34
        }
      },
      "source": [
        "for col in df.select_dtypes(include='float32').columns:\n",
        "    if df[col].isna().sum() > 0:\n",
        "        m = df[col].median()\n",
        "        df[col].fillna(m, inplace=True)\n",
        "\n",
        "\n",
        "df.isnull().sum().sum()\n"
      ],
      "execution_count": 0,
      "outputs": [
        {
          "output_type": "execute_result",
          "data": {
            "text/plain": [
              "0"
            ]
          },
          "metadata": {
            "tags": []
          },
          "execution_count": 55
        }
      ]
    }
  ]
}